{
  "metadata": {
    "kernelspec": {
      "name": "python",
      "display_name": "Python (Pyodide)",
      "language": "python"
    },
    "language_info": {
      "codemirror_mode": {
        "name": "python",
        "version": 3
      },
      "file_extension": ".py",
      "mimetype": "text/x-python",
      "name": "python",
      "nbconvert_exporter": "python",
      "pygments_lexer": "ipython3",
      "version": "3.8"
    },
    "celltoolbar": "Edit Metadata"
  },
  "nbformat_minor": 5,
  "nbformat": 4,
  "cells": [
    {
      "id": "422bfb01",
      "cell_type": "markdown",
      "source": "# Practice Lab: Decision Trees\n\nIn this exercise, you will implement a decision tree from scratch and apply it to the task of classifying whether a mushroom is edible or poisonous.\n\n# Outline\n- [ 1 - Packages ](#1)\n- [ 2 -  Problem Statement](#2)\n- [ 3 - Dataset](#3)\n  - [ 3.1 One hot encoded dataset](#3.1)\n- [ 4 - Decision Tree Refresher](#4)\n  - [ 4.1  Calculate entropy](#4.1)\n    - [ Exercise 1](#ex01)\n  - [ 4.2  Split dataset](#4.2)\n    - [ Exercise 2](#ex02)\n  - [ 4.3  Calculate information gain](#4.3)\n    - [ Exercise 3](#ex03)\n  - [ 4.4  Get best split](#4.4)\n    - [ Exercise 4](#ex04)\n- [ 5 - Building the tree](#5)\n",
      "metadata": {}
    },
    {
      "id": "8ba87e7a",
      "cell_type": "markdown",
      "source": "_**NOTE:** To prevent errors from the autograder, you are not allowed to edit or delete non-graded cells in this notebook . Please also refrain from adding any new cells. \n**Once you have passed this assignment** and want to experiment with any of the non-graded code, you may follow the instructions at the bottom of this notebook._",
      "metadata": {}
    },
    {
      "id": "4bfba856",
      "cell_type": "markdown",
      "source": "<a name=\"1\"></a>\n## 1 - Packages \n\nFirst, let's run the cell below to import all the packages that you will need during this assignment.\n- [numpy](https://www.numpy.org) is the fundamental package for working with matrices in Python.\n- [matplotlib](https://matplotlib.org) is a famous library to plot graphs in Python.\n- ``utils.py`` contains helper functions for this assignment. You do not need to modify code in this file.\n",
      "metadata": {}
    },
    {
      "id": "abb136d7",
      "cell_type": "code",
      "source": "import numpy as np\nimport matplotlib.pyplot as plt\nfrom public_tests import *\nfrom utils import *\n\n%matplotlib inline",
      "metadata": {
        "deletable": false,
        "editable": false
      },
      "outputs": [],
      "execution_count": 1
    },
    {
      "id": "b0354132",
      "cell_type": "code",
      "source": "pip install networkx",
      "metadata": {},
      "outputs": [
        {
          "name": "stdout",
          "output_type": "stream",
          "text": [
            "Requirement already satisfied: networkx in c:\\users\\hiral\\anaconda3\\lib\\site-packages (3.1)\n",
            "Note: you may need to restart the kernel to use updated packages.\n"
          ]
        }
      ],
      "execution_count": 2
    },
    {
      "id": "660ed719",
      "cell_type": "markdown",
      "source": "<a name=\"2\"></a>\n## 2 -  Problem Statement\n\nSuppose you are starting a company that grows and sells wild mushrooms. \n- Since not all mushrooms are edible, you'd like to be able to tell whether a given mushroom is edible or poisonous based on it's physical attributes\n- You have some existing data that you can use for this task. \n\nCan you use the data to help you identify which mushrooms can be sold safely? \n\nNote: The dataset used is for illustrative purposes only. It is not meant to be a guide on identifying edible mushrooms.\n\n\n\n<a name=\"3\"></a>\n## 3 - Dataset\n\nYou will start by loading the dataset for this task. The dataset you have collected is as follows:\n\n|                                                     | Cap Color | Stalk Shape | Solitary | Edible |\n|:---------------------------------------------------:|:---------:|:-----------:|:--------:|:------:|\n| <img src=\"images/0.png\" alt=\"drawing\" width=\"50\"/> |   Brown   |   Tapering  |    Yes   |    1   |\n| <img src=\"images/1.png\" alt=\"drawing\" width=\"50\"/> |   Brown   |  Enlarging  |    Yes   |    1   |\n| <img src=\"images/2.png\" alt=\"drawing\" width=\"50\"/> |   Brown   |  Enlarging  |    No    |    0   |\n| <img src=\"images/3.png\" alt=\"drawing\" width=\"50\"/> |   Brown   |  Enlarging  |    No    |    0   |\n| <img src=\"images/4.png\" alt=\"drawing\" width=\"50\"/> |   Brown   |   Tapering  |    Yes   |    1   |\n| <img src=\"images/5.png\" alt=\"drawing\" width=\"50\"/> |    Red    |   Tapering  |    Yes   |    0   |\n| <img src=\"images/6.png\" alt=\"drawing\" width=\"50\"/> |    Red    |  Enlarging  |    No    |    0   |\n| <img src=\"images/7.png\" alt=\"drawing\" width=\"50\"/> |   Brown   |  Enlarging  |    Yes   |    1   |\n| <img src=\"images/8.png\" alt=\"drawing\" width=\"50\"/> |    Red    |   Tapering  |    No    |    1   |\n| <img src=\"images/9.png\" alt=\"drawing\" width=\"50\"/> |   Brown   |  Enlarging  |    No    |    0   |\n\n\n-  You have 10 examples of mushrooms. For each example, you have\n    - Three features\n        - Cap Color (`Brown` or `Red`),\n        - Stalk Shape (`Tapering (as in \\/)` or `Enlarging (as in /\\)`), and\n        - Solitary (`Yes` or `No`)\n    - Label\n        - Edible (`1` indicating yes or `0` indicating poisonous)\n\n<a name=\"3.1\"></a>\n### 3.1 One hot encoded dataset\nFor ease of implementation, we have one-hot encoded the features (turned them into 0 or 1 valued features)\n\n|                                                    | Brown Cap | Tapering Stalk Shape | Solitary | Edible |\n|:--------------------------------------------------:|:---------:|:--------------------:|:--------:|:------:|\n| <img src=\"images/0.png\" alt=\"drawing\" width=\"50\"/> |     1     |           1          |     1    |    1   |\n| <img src=\"images/1.png\" alt=\"drawing\" width=\"50\"/> |     1     |           0          |     1    |    1   |\n| <img src=\"images/2.png\" alt=\"drawing\" width=\"50\"/> |     1     |           0          |     0    |    0   |\n| <img src=\"images/3.png\" alt=\"drawing\" width=\"50\"/> |     1     |           0          |     0    |    0   |\n| <img src=\"images/4.png\" alt=\"drawing\" width=\"50\"/> |     1     |           1          |     1    |    1   |\n| <img src=\"images/5.png\" alt=\"drawing\" width=\"50\"/> |     0     |           1          |     1    |    0   |\n| <img src=\"images/6.png\" alt=\"drawing\" width=\"50\"/> |     0     |           0          |     0    |    0   |\n| <img src=\"images/7.png\" alt=\"drawing\" width=\"50\"/> |     1     |           0          |     1    |    1   |\n| <img src=\"images/8.png\" alt=\"drawing\" width=\"50\"/> |     0     |           1          |     0    |    1   |\n| <img src=\"images/9.png\" alt=\"drawing\" width=\"50\"/> |     1     |           0          |     0    |    0   |\n\n\nTherefore,\n- `X_train` contains three features for each example \n    - Brown Color (A value of `1` indicates \"Brown\" cap color and `0` indicates \"Red\" cap color)\n    - Tapering Shape (A value of `1` indicates \"Tapering Stalk Shape\" and `0` indicates \"Enlarging\" stalk shape)\n    - Solitary  (A value of `1` indicates \"Yes\" and `0` indicates \"No\")\n\n- `y_train` is whether the mushroom is edible \n    - `y = 1` indicates edible\n    - `y = 0` indicates poisonous",
      "metadata": {}
    },
    {
      "id": "4f1112c5",
      "cell_type": "code",
      "source": "X_train = np.array([[1,1,1],[1,0,1],[1,0,0],[1,0,0],[1,1,1],[0,1,1],[0,0,0],[1,0,1],[0,1,0],[1,0,0]])\ny_train = np.array([1,1,0,0,1,0,0,1,1,0])",
      "metadata": {
        "deletable": false,
        "editable": false
      },
      "outputs": [],
      "execution_count": 3
    },
    {
      "id": "eb9cb884",
      "cell_type": "markdown",
      "source": "#### View the variables\nLet's get more familiar with your dataset.  \n- A good place to start is to just print out each variable and see what it contains.\n\nThe code below prints the first few elements of `X_train` and the type of the variable.",
      "metadata": {}
    },
    {
      "id": "9b6adf12",
      "cell_type": "code",
      "source": "print(\"First few elements of X_train:\\n\", X_train[:5])\nprint(\"Type of X_train:\",type(X_train))",
      "metadata": {
        "deletable": false,
        "editable": false
      },
      "outputs": [
        {
          "name": "stdout",
          "output_type": "stream",
          "text": [
            "First few elements of X_train:\n",
            " [[1 1 1]\n",
            " [1 0 1]\n",
            " [1 0 0]\n",
            " [1 0 0]\n",
            " [1 1 1]]\n",
            "Type of X_train: <class 'numpy.ndarray'>\n"
          ]
        }
      ],
      "execution_count": 4
    },
    {
      "id": "6827478d",
      "cell_type": "markdown",
      "source": "Now, let's do the same for `y_train`",
      "metadata": {}
    },
    {
      "id": "4cf99bf2",
      "cell_type": "code",
      "source": "print(\"First few elements of y_train:\", y_train[:5])\nprint(\"Type of y_train:\",type(y_train))",
      "metadata": {
        "deletable": false,
        "editable": false
      },
      "outputs": [
        {
          "name": "stdout",
          "output_type": "stream",
          "text": [
            "First few elements of y_train: [1 1 0 0 1]\n",
            "Type of y_train: <class 'numpy.ndarray'>\n"
          ]
        }
      ],
      "execution_count": 5
    },
    {
      "id": "3203dee2",
      "cell_type": "markdown",
      "source": "#### Check the dimensions of your variables\n\nAnother useful way to get familiar with your data is to view its dimensions.\n\nPlease print the shape of `X_train` and `y_train` and see how many training examples you have in your dataset.",
      "metadata": {}
    },
    {
      "id": "885a75b7",
      "cell_type": "code",
      "source": "print ('The shape of X_train is:', X_train.shape)\nprint ('The shape of y_train is: ', y_train.shape)\nprint ('Number of training examples (m):', len(X_train))",
      "metadata": {
        "deletable": false,
        "editable": false
      },
      "outputs": [
        {
          "name": "stdout",
          "output_type": "stream",
          "text": [
            "The shape of X_train is: (10, 3)\n",
            "The shape of y_train is:  (10,)\n",
            "Number of training examples (m): 10\n"
          ]
        }
      ],
      "execution_count": 6
    },
    {
      "id": "3d236442",
      "cell_type": "markdown",
      "source": "<a name=\"4\"></a>\n## 4 - Decision Tree Refresher\n\nIn this practice lab, you will build a decision tree based on the dataset provided.\n\n- Recall that the steps for building a decision tree are as follows:\n    - Start with all examples at the root node\n    - Calculate information gain for splitting on all possible features, and pick the one with the highest information gain\n    - Split dataset according to the selected feature, and create left and right branches of the tree\n    - Keep repeating splitting process until stopping criteria is met\n  \n  \n- In this lab, you'll implement the following functions, which will let you split a node into left and right branches using the feature with the highest information gain\n    - Calculate the entropy at a node \n    - Split the dataset at a node into left and right branches based on a given feature\n    - Calculate the information gain from splitting on a given feature\n    - Choose the feature that maximizes information gain\n    \n- We'll then use the helper functions you've implemented to build a decision tree by repeating the splitting process until the stopping criteria is met \n    - For this lab, the stopping criteria we've chosen is setting a maximum depth of 2",
      "metadata": {}
    },
    {
      "id": "8d781b8b",
      "cell_type": "markdown",
      "source": "<a name=\"4.1\"></a>\n### 4.1  Calculate entropy\n\nFirst, you'll write a helper function called `compute_entropy` that computes the entropy (measure of impurity) at a node. \n- The function takes in a numpy array (`y`) that indicates whether the examples in that node are edible (`1`) or poisonous(`0`) \n\nComplete the `compute_entropy()` function below to:\n* Compute $p_1$, which is the fraction of examples that are edible (i.e. have value = `1` in `y`)\n* The entropy is then calculated as \n\n$$H(p_1) = -p_1 \\text{log}_2(p_1) - (1- p_1) \\text{log}_2(1- p_1)$$\n* Note \n    * The log is calculated with base $2$\n    * For implementation purposes, $0\\text{log}_2(0) = 0$. That is, if `p_1 = 0` or `p_1 = 1`, set the entropy to `0`\n    * Make sure to check that the data at a node is not empty (i.e. `len(y) != 0`). Return `0` if it is\n    \n<a name=\"ex01\"></a>\n### Exercise 1\n\nPlease complete the `compute_entropy()` function using the previous instructions.\n    \nIf you get stuck, you can check out the hints presented after the cell below to help you with the implementation.",
      "metadata": {}
    },
    {
      "id": "10da3ab4",
      "cell_type": "code",
      "source": "# UNQ_C1\n# GRADED FUNCTION: compute_entropy\n\ndef compute_entropy(y):\n    \"\"\"\n    Computes the entropy for \n    \n    Args:\n       y (ndarray): Numpy array indicating whether each example at a node is\n           edible (`1`) or poisonous (`0`)\n       \n    Returns:\n        entropy (float): Entropy at that node\n        \n    \"\"\"\n    # You need to return the following variables correctly\n    entropy = 0.\n    \n    ### START CODE HERE ###\n    if len(y) != 0:\n        p1 = p1 = len(y[y == 1]) / len(y) \n     # For p1 = 0 and 1, set the entropy to 0 (to handle 0log0)\n        if p1 != 0 and p1 != 1:\n             entropy = -p1 * np.log2(p1) - (1 - p1) * np.log2(1 - p1)\n        else:\n             entropy = 0\n    ### END CODE HERE ###        \n    \n    return entropy",
      "metadata": {
        "deletable": false
      },
      "outputs": [],
      "execution_count": 7
    },
    {
      "id": "f0c6d6be",
      "cell_type": "markdown",
      "source": "You can check if your implementation was correct by running the following test code:",
      "metadata": {}
    },
    {
      "id": "5abb4c64",
      "cell_type": "code",
      "source": "# Compute entropy at the root node (i.e. with all examples)\n# Since we have 5 edible and 5 non-edible mushrooms, the entropy should be 1\"\n\nprint(\"Entropy at root node: \", compute_entropy(y_train)) \n\n# UNIT TESTS\ncompute_entropy_test(compute_entropy)",
      "metadata": {
        "deletable": false,
        "editable": false
      },
      "outputs": [
        {
          "name": "stdout",
          "output_type": "stream",
          "text": [
            "Entropy at root node:  1.0\n",
            "\u001b[92m All tests passed. \n"
          ]
        }
      ],
      "execution_count": 8
    },
    {
      "id": "854da2f8",
      "cell_type": "markdown",
      "source": "**Expected Output**:\n<table>\n  <tr>\n    <td> <b>Entropy at root node:<b> 1.0 </td> \n  </tr>\n</table>",
      "metadata": {}
    },
    {
      "id": "36e7ebe0",
      "cell_type": "markdown",
      "source": "<a name=\"4.2\"></a>\n### 4.2  Split dataset\n\nNext, you'll write a helper function called `split_dataset` that takes in the data at a node and a feature to split on and splits it into left and right branches. Later in the lab, you'll implement code to calculate how good the split is.\n\n- The function takes in the training data, the list of indices of data points at that node, along with the feature to split on. \n- It splits the data and returns the subset of indices at the left and the right branch.\n- For example, say we're starting at the root node (so `node_indices = [0,1,2,3,4,5,6,7,8,9]`), and we chose to split on feature `0`, which is whether or not the example has a brown cap. \n    - The output of the function is then, `left_indices = [0,1,2,3,4,7,9]` (data points with brown cap) and `right_indices = [5,6,8]` (data points without a brown cap)\n    \n    \n|       |                                                    | Brown Cap | Tapering Stalk Shape | Solitary | Edible |\n|-------|:--------------------------------------------------:|:---------:|:--------------------:|:--------:|:------:|\n| 0     | <img src=\"images/0.png\" alt=\"drawing\" width=\"50\"/> |     1     |           1          |     1    |    1   |\n| 1     | <img src=\"images/1.png\" alt=\"drawing\" width=\"50\"/> |     1     |           0          |     1    |    1   |\n| 2     | <img src=\"images/2.png\" alt=\"drawing\" width=\"50\"/> |     1     |           0          |     0    |    0   |\n| 3     | <img src=\"images/3.png\" alt=\"drawing\" width=\"50\"/> |     1     |           0          |     0    |    0   |\n| 4     | <img src=\"images/4.png\" alt=\"drawing\" width=\"50\"/> |     1     |           1          |     1    |    1   |\n| 5     | <img src=\"images/5.png\" alt=\"drawing\" width=\"50\"/> |     0     |           1          |     1    |    0   |\n| 6     | <img src=\"images/6.png\" alt=\"drawing\" width=\"50\"/> |     0     |           0          |     0    |    0   |\n| 7     | <img src=\"images/7.png\" alt=\"drawing\" width=\"50\"/> |     1     |           0          |     1    |    1   |\n| 8     | <img src=\"images/8.png\" alt=\"drawing\" width=\"50\"/> |     0     |           1          |     0    |    1   |\n| 9     | <img src=\"images/9.png\" alt=\"drawing\" width=\"50\"/> |     1     |           0          |     0    |    0   |\n    \n<a name=\"ex02\"></a>\n### Exercise 2\n\nPlease complete the `split_dataset()` function shown below\n\n- For each index in `node_indices`\n    - If the value of `X` at that index for that feature is `1`, add the index to `left_indices`\n    - If the value of `X` at that index for that feature is `0`, add the index to `right_indices`\n\nIf you get stuck, you can check out the hints presented after the cell below to help you with the implementation.",
      "metadata": {}
    },
    {
      "id": "f022da02",
      "cell_type": "code",
      "source": "# UNQ_C2\n# GRADED FUNCTION: split_dataset\n\ndef split_dataset(X, node_indices, feature):\n    \"\"\"\n    Splits the data at the given node into\n    left and right branches\n    \n    Args:\n        X (ndarray):             Data matrix of shape(n_samples, n_features)\n        node_indices (list):     List containing the active indices. I.e, the samples being considered at this step.\n        feature (int):           Index of feature to split on\n    \n    Returns:\n        left_indices (list):     Indices with feature value == 1\n        right_indices (list):    Indices with feature value == 0\n    \"\"\"\n    \n    # You need to return the following variables correctly\n    left_indices = []\n    right_indices = []\n    \n    ### START CODE HERE ###\n    for i in node_indices:   \n        if X[i][feature] == 1:\n            left_indices.append(i)\n        else:\n            right_indices.append(i)\n    ### END CODE HERE ###\n        \n    return left_indices, right_indices",
      "metadata": {
        "deletable": false
      },
      "outputs": [],
      "execution_count": 9
    },
    {
      "id": "57e412fc",
      "cell_type": "markdown",
      "source": "Now, let's check your implementation using the code blocks below. Let's try splitting the dataset at the root node, which contains all examples at feature 0 (Brown Cap) as we'd discussed above. We've also provided a helper function to visualize the output of the split.",
      "metadata": {}
    },
    {
      "id": "528155d4",
      "cell_type": "code",
      "source": "# Case 1\n\nroot_indices = [0, 1, 2, 3, 4, 5, 6, 7, 8, 9]\n\n# Feel free to play around with these variables\n# The dataset only has three features, so this value can be 0 (Brown Cap), 1 (Tapering Stalk Shape) or 2 (Solitary)\nfeature = 0\n\nleft_indices, right_indices = split_dataset(X_train, root_indices, feature)\n\nprint(\"CASE 1:\")\nprint(\"Left indices: \", left_indices)\nprint(\"Right indices: \", right_indices)\n\n# Visualize the split \n#generate_split_viz(root_indices, left_indices, right_indices, feature)\n\nprint()\n\n# Case 2\n\nroot_indices_subset = [0, 2, 4, 6, 8]\nleft_indices, right_indices = split_dataset(X_train, root_indices_subset, feature)\n\nprint(\"CASE 2:\")\nprint(\"Left indices: \", left_indices)\nprint(\"Right indices: \", right_indices)\n\n# Visualize the split \n#generate_split_viz(root_indices_subset, left_indices, right_indices, feature)\n\n# UNIT TESTS    \nsplit_dataset_test(split_dataset)",
      "metadata": {
        "deletable": false
      },
      "outputs": [
        {
          "name": "stdout",
          "output_type": "stream",
          "text": [
            "CASE 1:\n",
            "Left indices:  [0, 1, 2, 3, 4, 7, 9]\n",
            "Right indices:  [5, 6, 8]\n",
            "\n",
            "CASE 2:\n",
            "Left indices:  [0, 2, 4]\n",
            "Right indices:  [6, 8]\n",
            "\u001b[92m All tests passed.\n"
          ]
        }
      ],
      "execution_count": 10
    },
    {
      "id": "d90e5695",
      "cell_type": "markdown",
      "source": "**Expected Output**:\n```\nCASE 1:\nLeft indices:  [0, 1, 2, 3, 4, 7, 9]\nRight indices:  [5, 6, 8]\n\nCASE 2:\nLeft indices:  [0, 2, 4]\nRight indices:  [6, 8]\n```",
      "metadata": {}
    },
    {
      "id": "8fb726ad",
      "cell_type": "markdown",
      "source": "<a name=\"4.3\"></a>\n### 4.3  Calculate information gain\n\nNext, you'll write a function called `information_gain` that takes in the training data, the indices at a node and a feature to split on and returns the information gain from the split.\n\n<a name=\"ex03\"></a>\n### Exercise 3\n\nPlease complete the `compute_information_gain()` function shown below to compute\n\n$$\\text{Information Gain} = H(p_1^\\text{node})- (w^{\\text{left}}H(p_1^\\text{left}) + w^{\\text{right}}H(p_1^\\text{right}))$$\n\nwhere \n- $H(p_1^\\text{node})$ is entropy at the node \n- $H(p_1^\\text{left})$ and $H(p_1^\\text{right})$ are the entropies at the left and the right branches resulting from the split\n- $w^{\\text{left}}$ and $w^{\\text{right}}$ are the proportion of examples at the left and right branch, respectively\n\nNote:\n- You can use the `compute_entropy()` function that you implemented above to calculate the entropy\n- We've provided some starter code that uses the `split_dataset()` function you implemented above to split the dataset \n\nIf you get stuck, you can check out the hints presented after the cell below to help you with the implementation.",
      "metadata": {}
    },
    {
      "id": "b3972e91",
      "cell_type": "code",
      "source": "# UNQ_C3\n# GRADED FUNCTION: compute_information_gain\n\ndef compute_information_gain(X, y, node_indices, feature):\n    \n    \"\"\"\n    Compute the information of splitting the node on a given feature\n    \n    Args:\n        X (ndarray):            Data matrix of shape(n_samples, n_features)\n        y (array like):         list or ndarray with n_samples containing the target variable\n        node_indices (ndarray): List containing the active indices. I.e, the samples being considered in this step.\n        feature (int):           Index of feature to split on\n   \n    Returns:\n        cost (float):        Cost computed\n    \n    \"\"\"    \n    # Split dataset\n    left_indices, right_indices = split_dataset(X, node_indices, feature)\n    \n    # Some useful variables\n    X_node, y_node = X[node_indices], y[node_indices]\n    X_left, y_left = X[left_indices], y[left_indices]\n    X_right, y_right = X[right_indices], y[right_indices]\n    \n    # You need to return the following variables correctly\n    information_gain = 0\n    \n    ### START CODE HERE ###\n    node_entropy = compute_entropy(y_node)\n    left_entropy = compute_entropy(y_left)\n    right_entropy = compute_entropy(y_right)\n    \n    # Weights \n    w_left = len(X_left) / len(X_node)\n    w_right = len(X_right) / len(X_node)\n    \n    #Weighted entropy\n    weighted_entropy = w_left * left_entropy + w_right * right_entropy\n    \n    #Information gain \n    information_gain = node_entropy - weighted_entropy  \n    ### END CODE HERE ###  \n    \n    return information_gain",
      "metadata": {
        "deletable": false
      },
      "outputs": [],
      "execution_count": 11
    },
    {
      "id": "d67b8b6c",
      "cell_type": "markdown",
      "source": "You can now check your implementation using the cell below and calculate what the information gain would be from splitting on each of the featues",
      "metadata": {}
    },
    {
      "id": "e081eb4a",
      "cell_type": "code",
      "source": "info_gain0 = compute_information_gain(X_train, y_train, root_indices, feature=0)\nprint(\"Information Gain from splitting the root on brown cap: \", info_gain0)\n\ninfo_gain1 = compute_information_gain(X_train, y_train, root_indices, feature=1)\nprint(\"Information Gain from splitting the root on tapering stalk shape: \", info_gain1)\n\ninfo_gain2 = compute_information_gain(X_train, y_train, root_indices, feature=2)\nprint(\"Information Gain from splitting the root on solitary: \", info_gain2)\n\n# UNIT TESTS\ncompute_information_gain_test(compute_information_gain)",
      "metadata": {
        "deletable": false,
        "editable": false
      },
      "outputs": [
        {
          "name": "stdout",
          "output_type": "stream",
          "text": [
            "Information Gain from splitting the root on brown cap:  0.034851554559677034\n",
            "Information Gain from splitting the root on tapering stalk shape:  0.12451124978365313\n",
            "Information Gain from splitting the root on solitary:  0.2780719051126377\n",
            "\u001b[92m All tests passed.\n"
          ]
        }
      ],
      "execution_count": 12
    },
    {
      "id": "ee48b7bc",
      "cell_type": "markdown",
      "source": "**Expected Output**:\n```\nInformation Gain from splitting the root on brown cap:  0.034851554559677034\nInformation Gain from splitting the root on tapering stalk shape:  0.12451124978365313\nInformation Gain from splitting the root on solitary:  0.2780719051126377\n```",
      "metadata": {}
    },
    {
      "id": "beccc55e",
      "cell_type": "markdown",
      "source": "Splitting on \"Solitary\" (feature = 2) at the root node gives the maximum information gain. Therefore, it's the best feature to split on at the root node.",
      "metadata": {}
    },
    {
      "id": "d53d771a",
      "cell_type": "markdown",
      "source": "<a name=\"4.4\"></a>\n### 4.4  Get best split\nNow let's write a function to get the best feature to split on by computing the information gain from each feature as we did above and returning the feature that gives the maximum information gain\n\n<a name=\"ex04\"></a>\n### Exercise 4\nPlease complete the `get_best_split()` function shown below.\n- The function takes in the training data, along with the indices of datapoint at that node\n- The output of the function is the feature that gives the maximum information gain \n    - You can use the `compute_information_gain()` function to iterate through the features and calculate the information for each feature\nIf you get stuck, you can check out the hints presented after the cell below to help you with the implementation.",
      "metadata": {}
    },
    {
      "id": "59faa5bd",
      "cell_type": "code",
      "source": "# UNQ_C4\n# GRADED FUNCTION: get_best_split\n\ndef get_best_split(X, y, node_indices):   \n    \"\"\"\n    Returns the optimal feature and threshold value\n    to split the node data \n    \n    Args:\n        X (ndarray):            Data matrix of shape(n_samples, n_features)\n        y (array like):         list or ndarray with n_samples containing the target variable\n        node_indices (ndarray): List containing the active indices. I.e, the samples being considered in this step.\n\n    Returns:\n        best_feature (int):     The index of the best feature to split\n    \"\"\"    \n    \n    # Some useful variables\n    num_features = X.shape[1]\n    \n    # You need to return the following variables correctly\n    best_feature = -1\n    \n    ### START CODE HERE ###\n    max_info_gain=0\n    for feature in range(num_features):\n        info_gain = compute_information_gain(X, y, node_indices, feature)\n        if info_gain > max_info_gain:\n            max_info_gain = info_gain\n            best_feature = feature\n    ### END CODE HERE ##    \n   \n    return best_feature",
      "metadata": {
        "deletable": false
      },
      "outputs": [],
      "execution_count": 13
    },
    {
      "id": "08ecc795",
      "cell_type": "markdown",
      "source": "Now, let's check the implementation of your function using the cell below.",
      "metadata": {}
    },
    {
      "id": "58aa778a",
      "cell_type": "code",
      "source": "best_feature = get_best_split(X_train, y_train, root_indices)\nprint(\"Best feature to split on: %d\" % best_feature)\n\n# UNIT TESTS\nget_best_split_test(get_best_split)",
      "metadata": {
        "deletable": false,
        "editable": false
      },
      "outputs": [
        {
          "name": "stdout",
          "output_type": "stream",
          "text": [
            "Best feature to split on: 2\n",
            "\u001b[92m All tests passed.\n"
          ]
        }
      ],
      "execution_count": 14
    },
    {
      "id": "8ad06ec3",
      "cell_type": "markdown",
      "source": "As we saw above, the function returns that the best feature to split on at the root node is feature 2 (\"Solitary\")",
      "metadata": {}
    },
    {
      "id": "72d0b8a0",
      "cell_type": "markdown",
      "source": "<a name=\"5\"></a>\n## 5 - Building the tree\n\nIn this section, we use the functions you implemented above to generate a decision tree by successively picking the best feature to split on until we reach the stopping criteria (maximum depth is 2).\n\nYou do not need to implement anything for this part.",
      "metadata": {}
    },
    {
      "id": "41ac335d",
      "cell_type": "code",
      "source": "# Not graded\ntree = []\n\ndef build_tree_recursive(X, y, node_indices, branch_name, max_depth, current_depth):\n    \"\"\"\n    Build a tree using the recursive algorithm that split the dataset into 2 subgroups at each node.\n    This function just prints the tree.\n    \n    Args:\n        X (ndarray):            Data matrix of shape(n_samples, n_features)\n        y (array like):         list or ndarray with n_samples containing the target variable\n        node_indices (ndarray): List containing the active indices. I.e, the samples being considered in this step.\n        branch_name (string):   Name of the branch. ['Root', 'Left', 'Right']\n        max_depth (int):        Max depth of the resulting tree. \n        current_depth (int):    Current depth. Parameter used during recursive call.\n   \n    \"\"\" \n\n    # Maximum depth reached - stop splitting\n    if current_depth == max_depth:\n        formatting = \" \"*current_depth + \"-\"*current_depth\n        print(formatting, \"%s leaf node with indices\" % branch_name, node_indices)\n        return\n   \n    # Otherwise, get best split and split the data\n    # Get the best feature and threshold at this node\n    best_feature = get_best_split(X, y, node_indices) \n    \n    formatting = \"-\"*current_depth\n    print(\"%s Depth %d, %s: Split on feature: %d\" % (formatting, current_depth, branch_name, best_feature))\n    \n    # Split the dataset at the best feature\n    left_indices, right_indices = split_dataset(X, node_indices, best_feature)\n    tree.append((left_indices, right_indices, best_feature))\n    \n    # continue splitting the left and the right child. Increment current depth\n    build_tree_recursive(X, y, left_indices, \"Left\", max_depth, current_depth+1)\n    build_tree_recursive(X, y, right_indices, \"Right\", max_depth, current_depth+1)",
      "metadata": {
        "deletable": false,
        "editable": false
      },
      "outputs": [],
      "execution_count": 15
    },
    {
      "id": "79a6da35",
      "cell_type": "code",
      "source": "build_tree_recursive(X_train, y_train, root_indices, \"Root\", max_depth=2, current_depth=0)",
      "metadata": {},
      "outputs": [
        {
          "name": "stdout",
          "output_type": "stream",
          "text": [
            " Depth 0, Root: Split on feature: 2\n",
            "- Depth 1, Left: Split on feature: 0\n",
            "  -- Left leaf node with indices [0, 1, 4, 7]\n",
            "  -- Right leaf node with indices [5]\n",
            "- Depth 1, Right: Split on feature: 1\n",
            "  -- Left leaf node with indices [8]\n",
            "  -- Right leaf node with indices [2, 3, 6, 9]\n"
          ]
        }
      ],
      "execution_count": 16
    },
    {
      "id": "c124751b",
      "cell_type": "code",
      "source": "https://github.com/jainampatel1604/ML-Assignment-3\nhttps://medium.com/@pateljainam.190670107087/ml-assignment-1d7bfff15c5f",
      "metadata": {},
      "outputs": [],
      "execution_count": null
    },
    {
      "id": "1af9cf6c",
      "cell_type": "markdown",
      "source": "<details>\n  <summary><font size=\"2\" color=\"darkgreen\"><b>Please click here if you want to experiment with any of the non-graded code.</b></font></summary>\n    <p><i><b>Important Note: Please only do this when you've already passed the assignment to avoid problems with the autograder.</b></i>\n    <ol>\n        <li> On the notebook’s menu, click “View” > “Cell Toolbar” > “Edit Metadata”</li>\n        <li> Hit the “Edit Metadata” button next to the code cell which you want to lock/unlock</li>\n        <li> Set the attribute value for “editable” to:\n            <ul>\n                <li> “true” if you want to unlock it </li>\n                <li> “false” if you want to lock it </li>\n            </ul>\n        </li>\n        <li> On the notebook’s menu, click “View” > “Cell Toolbar” > “None” </li>\n    </ol>\n    <p> Here's a short demo of how to do the steps above: \n        <br>\n        <img src=\"https://lh3.google.com/u/0/d/14Xy_Mb17CZVgzVAgq7NCjMVBvSae3xO1\" align=\"center\" alt=\"unlock_cells.gif\">\n</details>",
      "metadata": {}
    }
  ]
}